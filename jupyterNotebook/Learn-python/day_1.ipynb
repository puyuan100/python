{
 "cells": [
  {
   "cell_type": "markdown",
   "metadata": {},
   "source": [
    "# 2021/04/15 23:00\n",
    "\n"
   ]
  },
  {
   "cell_type": "code",
   "execution_count": 1,
   "metadata": {
    "scrolled": true
   },
   "outputs": [
    {
     "name": "stdout",
     "output_type": "stream",
     "text": [
      "Enter x component:1\n",
      "You entered  1\n",
      "Enter x component:2\n",
      "You entered  2\n",
      "Enter x component:3\n",
      "You entered  3\n"
     ]
    },
    {
     "ename": "TypeError",
     "evalue": "unsupported operand type(s) for ** or pow(): 'str' and 'int'",
     "output_type": "error",
     "traceback": [
      "\u001b[1;31m---------------------------------------------------------------------------\u001b[0m",
      "\u001b[1;31mTypeError\u001b[0m                                 Traceback (most recent call last)",
      "\u001b[1;32m<ipython-input-1-d80e203bbd53>\u001b[0m in \u001b[0;36m<module>\u001b[1;34m\u001b[0m\n\u001b[0;32m      6\u001b[0m \u001b[0mprint\u001b[0m\u001b[1;33m(\u001b[0m\u001b[1;34m\"You entered \"\u001b[0m\u001b[1;33m,\u001b[0m \u001b[0mz\u001b[0m\u001b[1;33m)\u001b[0m\u001b[1;33m\u001b[0m\u001b[1;33m\u001b[0m\u001b[0m\n\u001b[0;32m      7\u001b[0m \u001b[1;33m\u001b[0m\u001b[0m\n\u001b[1;32m----> 8\u001b[1;33m \u001b[0mr\u001b[0m \u001b[1;33m=\u001b[0m \u001b[1;33m(\u001b[0m\u001b[0mx\u001b[0m\u001b[1;33m**\u001b[0m\u001b[1;36m2\u001b[0m \u001b[1;33m+\u001b[0m \u001b[0my\u001b[0m\u001b[1;33m**\u001b[0m\u001b[1;36m2\u001b[0m \u001b[1;33m+\u001b[0m \u001b[0mz\u001b[0m\u001b[1;33m**\u001b[0m\u001b[1;36m2\u001b[0m\u001b[1;33m)\u001b[0m\u001b[1;33m**\u001b[0m\u001b[1;36m0.5\u001b[0m\u001b[1;33m\u001b[0m\u001b[1;33m\u001b[0m\u001b[0m\n\u001b[0m\u001b[0;32m      9\u001b[0m \u001b[0mprint\u001b[0m\u001b[1;33m(\u001b[0m\u001b[1;34m\"The magnitude of the vector is\"\u001b[0m\u001b[1;33m,\u001b[0m \u001b[0mr\u001b[0m\u001b[1;33m,\u001b[0m \u001b[1;34m\"another thing\"\u001b[0m\u001b[1;33m)\u001b[0m\u001b[1;33m\u001b[0m\u001b[1;33m\u001b[0m\u001b[0m\n",
      "\u001b[1;31mTypeError\u001b[0m: unsupported operand type(s) for ** or pow(): 'str' and 'int'"
     ]
    }
   ],
   "source": [
    "x = input(\"Enter x component:\")\n",
    "print(\"You entered \", x)\n",
    "y = input(\"Enter x component:\")\n",
    "print(\"You entered \", y)\n",
    "z = input(\"Enter x component:\")\n",
    "print(\"You entered \", z)\n",
    "\n",
    "r = (x**2 + y**2 + z**2)**0.5\n",
    "print(\"The magnitude of the vector is\", r, \"another thing\")"
   ]
  },
  {
   "cell_type": "markdown",
   "metadata": {},
   "source": [
    "## mathematic calculation"
   ]
  },
  {
   "cell_type": "code",
   "execution_count": 4,
   "metadata": {},
   "outputs": [
    {
     "name": "stdout",
     "output_type": "stream",
     "text": [
      "Enter x component:1\n",
      "You entered  1.0\n",
      "Enter x component:2\n",
      "You entered  2.0\n",
      "Enter x component:3\n",
      "You entered  3.0\n",
      "The magnitude of the vector is 3.7416573867739413 another thing\n"
     ]
    }
   ],
   "source": [
    "x = float(input(\"Enter x component:\"))\n",
    "print(\"You entered \", x)\n",
    "y = float(input(\"Enter x component:\"))\n",
    "print(\"You entered \", y)\n",
    "z = float(input(\"Enter x component:\"))\n",
    "print(\"You entered \", z)\n",
    "\n",
    "r = (x**2 + y**2 + z**2)**0.5\n",
    "print(\"The magnitude of the vector is\", r, \"another thing\")"
   ]
  },
  {
   "cell_type": "markdown",
   "metadata": {},
   "source": [
    "## if "
   ]
  },
  {
   "cell_type": "code",
   "execution_count": 8,
   "metadata": {},
   "outputs": [
    {
     "name": "stdout",
     "output_type": "stream",
     "text": [
      "Enter termperature-90\n",
      "Ti is ice\n"
     ]
    }
   ],
   "source": [
    "t = float(input(\"Enter termperature\"))\n",
    "\n",
    "if t >= 100:\n",
    "    print('Water is in gas state')\n",
    "elif t >= 0: #and t < 100:\n",
    "    print(\"Water is in liquid state\")\n",
    "else:\n",
    "    print(\"It is ice\")"
   ]
  },
  {
   "cell_type": "markdown",
   "metadata": {},
   "source": [
    "## while"
   ]
  },
  {
   "cell_type": "code",
   "execution_count": 10,
   "metadata": {},
   "outputs": [
    {
     "name": "stdout",
     "output_type": "stream",
     "text": [
      "Enter password: 1\n",
      "Password is wrong. Enter again: 1\n",
      "Password is wrong. Enter again: 1\n",
      "Password is wrong. Enter again: python\n",
      "Password is correct. The information here\n"
     ]
    }
   ],
   "source": [
    "p = input(\"Enter password: \")\n",
    "password = \"python\"\n",
    "while p != password:\n",
    "    p = input(\"Password is wrong. Enter again: \")\n",
    "    \n",
    "print(\"Password is correct. The information here\")\n"
   ]
  },
  {
   "cell_type": "code",
   "execution_count": 19,
   "metadata": {},
   "outputs": [
    {
     "name": "stdout",
     "output_type": "stream",
     "text": [
      "Enter password: 1\n",
      "Password is wrong. Enter again: 2\n",
      "Password is wrong. Enter again: 3\n",
      "You entered incorrect password 3 times\n"
     ]
    }
   ],
   "source": [
    "i = 1\n",
    "imax = 3\n",
    "p = input(\"Enter password: \")\n",
    "\n",
    "password = \"python\"\n",
    "\n",
    "while p != password:\n",
    "    i = i + 1\n",
    "    p = input(\"Password is wrong. Enter again: \")\n",
    "    if i == imax:\n",
    "        break\n",
    "if i >= imax:\n",
    "    print(\"You entered incorrect password\", imax, \"times\")\n",
    "else:\n",
    "    print(\"Password is correct. The information here\")\n"
   ]
  },
  {
   "cell_type": "markdown",
   "metadata": {},
   "source": [
    "## list"
   ]
  },
  {
   "cell_type": "code",
   "execution_count": 9,
   "metadata": {},
   "outputs": [
    {
     "name": "stdout",
     "output_type": "stream",
     "text": [
      "[3, 6, 3, 6, 123, 'student', 1340000000000.0]\n",
      "[3, 6, 3, 6, 123, 'student', 1340000000000.0, 'table']\n",
      "8\n",
      "6\n"
     ]
    }
   ],
   "source": [
    "numbers = [3, 6, 3, 6, 123, \"student\", 1.34e12]\n",
    "print(numbers)\n",
    "numbers.append(\"table\")\n",
    "print(numbers)\n",
    "print(len(numbers))\n",
    "print(numbers[1]) # the index start from 0\n"
   ]
  },
  {
   "cell_type": "code",
   "execution_count": null,
   "metadata": {},
   "outputs": [],
   "source": []
  }
 ],
 "metadata": {
  "kernelspec": {
   "display_name": "Python 3",
   "language": "python",
   "name": "python3"
  },
  "language_info": {
   "codemirror_mode": {
    "name": "ipython",
    "version": 3
   },
   "file_extension": ".py",
   "mimetype": "text/x-python",
   "name": "python",
   "nbconvert_exporter": "python",
   "pygments_lexer": "ipython3",
   "version": "3.8.3"
  }
 },
 "nbformat": 4,
 "nbformat_minor": 4
}
